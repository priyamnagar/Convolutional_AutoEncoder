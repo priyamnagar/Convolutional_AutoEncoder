{
  "nbformat": 4,
  "nbformat_minor": 0,
  "metadata": {
    "colab": {
      "name": "Convolutional_AutoEncoder.ipynb",
      "version": "0.3.2",
      "provenance": [],
      "collapsed_sections": []
    },
    "kernelspec": {
      "name": "python3",
      "display_name": "Python 3"
    },
    "accelerator": "GPU"
  },
  "cells": [
    {
      "metadata": {
        "id": "Okizx3V1TUg4",
        "colab_type": "text"
      },
      "cell_type": "markdown",
      "source": [
        "**Importing Libraries**"
      ]
    },
    {
      "metadata": {
        "id": "xiJRtGNLTWz1",
        "colab_type": "code",
        "colab": {}
      },
      "cell_type": "code",
      "source": [
        "%matplotlib inline\n",
        "import torch\n",
        "from torchvision import datasets, transforms\n",
        "import numpy as np\n",
        "import matplotlib.pyplot as plt\n",
        "from torch import nn, optim"
      ],
      "execution_count": 0,
      "outputs": []
    },
    {
      "metadata": {
        "id": "--0_nwfvTrMw",
        "colab_type": "text"
      },
      "cell_type": "markdown",
      "source": [
        "**Gathering and loading data**"
      ]
    },
    {
      "metadata": {
        "id": "K3DUyGH6TuK8",
        "colab_type": "code",
        "colab": {}
      },
      "cell_type": "code",
      "source": [
        "traindata=datasets.MNIST('/data',train=True, download=True,transform=transforms.ToTensor())\n",
        "trainloader=torch.utils.data.DataLoader(traindata,batch_size=64,shuffle=True)\n",
        "\n",
        "testdata=datasets.MNIST('/data',train=False, download=True,transform=transforms.ToTensor())\n",
        "testloader=torch.utils.data.DataLoader(testdata,batch_size=64,shuffle=True)"
      ],
      "execution_count": 0,
      "outputs": []
    },
    {
      "metadata": {
        "id": "_93C5DQvUW7r",
        "colab_type": "text"
      },
      "cell_type": "markdown",
      "source": [
        "**Visualizing data**"
      ]
    },
    {
      "metadata": {
        "id": "zIDCoNPQUYuu",
        "colab_type": "code",
        "colab": {
          "base_uri": "https://localhost:8080/",
          "height": 282
        },
        "outputId": "0657daab-79bc-4553-f7e4-06cfbd5bf2b3"
      },
      "cell_type": "code",
      "source": [
        "images,_=next(iter(trainloader))\n",
        "plt.imshow(images[0].reshape(28,28),cmap='gray')"
      ],
      "execution_count": 3,
      "outputs": [
        {
          "output_type": "execute_result",
          "data": {
            "text/plain": [
              "<matplotlib.image.AxesImage at 0x7f6285d8c7f0>"
            ]
          },
          "metadata": {
            "tags": []
          },
          "execution_count": 3
        },
        {
          "output_type": "display_data",
          "data": {
            "image/png": "[encoded data removed]",
            "text/plain": [
              "<Figure size 432x288 with 1 Axes>"
            ]
          },
          "metadata": {
            "tags": []
          }
        }
      ]
    },
    {
      "metadata": {
        "id": "xQfu3SE8UqQR",
        "colab_type": "text"
      },
      "cell_type": "markdown",
      "source": [
        "**Model**"
      ]
    },
    {
      "metadata": {
        "id": "WGXdep-VUsXn",
        "colab_type": "code",
        "colab": {
          "base_uri": "https://localhost:8080/",
          "height": 136
        },
        "outputId": "f67e7456-c385-4571-b0c6-1d8d76be547e"
      },
      "cell_type": "code",
      "source": [
        "class ConvAutoEncoder(nn.Module):\n",
        "  def __init__(self):\n",
        "    super().__init__()\n",
        "   \n",
        "    #Encoder  \n",
        "    self.conv1=nn.Conv2d(1,16,3,padding=1)\n",
        "    self.pool=nn.MaxPool2d(2,2)\n",
        "    self.conv2=nn.Conv2d(16,4,3,padding=1)\n",
        "    \n",
        "    #Decoder\n",
        "    self.trans_conv1=nn.ConvTranspose2d(4,16,2,stride=2)\n",
        "    self.trans_conv2=nn.ConvTranspose2d(16,1,2,stride=2)\n",
        "    \n",
        "  def forward(self,x):\n",
        "    x=self.pool(self.conv1(x))\n",
        "    x=self.pool(self.conv2(x))\n",
        "    \n",
        "    x=self.trans_conv1(x)\n",
        "    x=self.trans_conv2(x)\n",
        "    \n",
        "    return x\n",
        "ConvAutoEncoder()   "
      ],
      "execution_count": 4,
      "outputs": [
        {
          "output_type": "execute_result",
          "data": {
            "text/plain": [
              "ConvAutoEncoder(\n",
              "  (conv1): Conv2d(1, 16, kernel_size=(3, 3), stride=(1, 1), padding=(1, 1))\n",
              "  (pool): MaxPool2d(kernel_size=2, stride=2, padding=0, dilation=1, ceil_mode=False)\n",
              "  (conv2): Conv2d(16, 4, kernel_size=(3, 3), stride=(1, 1), padding=(1, 1))\n",
              "  (trans_conv1): ConvTranspose2d(4, 16, kernel_size=(2, 2), stride=(2, 2))\n",
              "  (trans_conv2): ConvTranspose2d(16, 1, kernel_size=(2, 2), stride=(2, 2))\n",
              ")"
            ]
          },
          "metadata": {
            "tags": []
          },
          "execution_count": 4
        }
      ]
    },
    {
      "metadata": {
        "id": "g18TFBiDb2Xf",
        "colab_type": "text"
      },
      "cell_type": "markdown",
      "source": [
        "**Training Objects**"
      ]
    },
    {
      "metadata": {
        "id": "Y4PUpbFib_iy",
        "colab_type": "code",
        "colab": {}
      },
      "cell_type": "code",
      "source": [
        "model=ConvAutoEncoder()\n",
        "model.cuda()\n",
        "criteria=nn.MSELoss()\n",
        "optimizer=optim.Adam(model.parameters(),lr=0.003)"
      ],
      "execution_count": 0,
      "outputs": []
    },
    {
      "metadata": {
        "id": "RDBS2ssScV_U",
        "colab_type": "text"
      },
      "cell_type": "markdown",
      "source": [
        "**Training**"
      ]
    },
    {
      "metadata": {
        "id": "StdsUCKbcXFl",
        "colab_type": "code",
        "colab": {
          "base_uri": "https://localhost:8080/",
          "height": 272
        },
        "outputId": "5b2d8148-12c0-407e-fba4-07f3ace22da9"
      },
      "cell_type": "code",
      "source": [
        "epoch=15\n",
        "for e in range(epoch):\n",
        "    running_loss=0\n",
        "    for images,_ in trainloader:\n",
        "        images=images.cuda()\n",
        "        optimizer.zero_grad()\n",
        "    \n",
        "#         images=images.view(images.size(0),-1)\n",
        "      \n",
        "#         print(images.shape)\n",
        "        logits=model.forward(images)\n",
        "\n",
        "    \n",
        "        loss=criteria(logits,images)\n",
        "        loss.backward()\n",
        "    \n",
        "        optimizer.step()\n",
        "    \n",
        "        running_loss+=loss.item()\n",
        "    \n",
        "    else:\n",
        "        print('Training Loss : ',running_loss/len(trainloader))"
      ],
      "execution_count": 6,
      "outputs": [
        {
          "output_type": "stream",
          "text": [
            "Training Loss :  0.02332700484358807\n",
            "Training Loss :  0.017081440517754315\n",
            "Training Loss :  0.016758013336953006\n",
            "Training Loss :  0.016574283531590947\n",
            "Training Loss :  0.01645210534155464\n",
            "Training Loss :  0.016314499608393925\n",
            "Training Loss :  0.016184120466793652\n",
            "Training Loss :  0.01611490308074777\n",
            "Training Loss :  0.016069671070612253\n",
            "Training Loss :  0.01604057639352739\n",
            "Training Loss :  0.016024801443253498\n",
            "Training Loss :  0.016007716945215647\n",
            "Training Loss :  0.0160003009178777\n",
            "Training Loss :  0.01598796143885583\n",
            "Training Loss :  0.015979089564693443\n"
          ],
          "name": "stdout"
        }
      ]
    },
    {
      "metadata": {
        "id": "ffykSxYOexLe",
        "colab_type": "text"
      },
      "cell_type": "markdown",
      "source": [
        "**Before Compression**"
      ]
    },
    {
      "metadata": {
        "id": "BueGEIgtdV67",
        "colab_type": "code",
        "colab": {
          "base_uri": "https://localhost:8080/",
          "height": 282
        },
        "outputId": "5bfd9b31-002b-461c-dd31-539da7e20a39"
      },
      "cell_type": "code",
      "source": [
        "images,_=next(iter(testloader))\n",
        "plt.imshow(images[0].reshape(28,28),cmap='gray')"
      ],
      "execution_count": 7,
      "outputs": [
        {
          "output_type": "execute_result",
          "data": {
            "text/plain": [
              "<matplotlib.image.AxesImage at 0x7f6282c80b00>"
            ]
          },
          "metadata": {
            "tags": []
          },
          "execution_count": 7
        },
        {
          "output_type": "display_data",
          "data": {
            "image/png": "[encoded data removed]",
            "text/plain": [
              "<Figure size 432x288 with 1 Axes>"
            ]
          },
          "metadata": {
            "tags": []
          }
        }
      ]
    },
    {
      "metadata": {
        "id": "_t6XC2q4e8kF",
        "colab_type": "text"
      },
      "cell_type": "markdown",
      "source": [
        "**After Compression**"
      ]
    },
    {
      "metadata": {
        "id": "kCME2ZXse-v-",
        "colab_type": "code",
        "colab": {}
      },
      "cell_type": "code",
      "source": [
        "with torch.no_grad():\n",
        "#     images=images.view(-1,784)\n",
        "    images=images.cuda()\n",
        "    comp_img=model.forward(images)\n",
        " "
      ],
      "execution_count": 0,
      "outputs": []
    },
    {
      "metadata": {
        "id": "tqCO9sEmfCB6",
        "colab_type": "code",
        "colab": {
          "base_uri": "https://localhost:8080/",
          "height": 282
        },
        "outputId": "88d97894-eb4a-4882-86a7-f61b0c01be55"
      },
      "cell_type": "code",
      "source": [
        "comp_img=comp_img.cpu()\n",
        "plt.imshow(comp_img[0].reshape(28,28),cmap='gray')"
      ],
      "execution_count": 9,
      "outputs": [
        {
          "output_type": "execute_result",
          "data": {
            "text/plain": [
              "<matplotlib.image.AxesImage at 0x7f6285eab400>"
            ]
          },
          "metadata": {
            "tags": []
          },
          "execution_count": 9
        },
        {
          "output_type": "display_data",
          "data": {
            "image/png": "[encoded data removed]",
            "text/plain": [
              "<Figure size 432x288 with 1 Axes>"
            ]
          },
          "metadata": {
            "tags": []
          }
        }
      ]
    },
    {
      "metadata": {
        "id": "bk4aNIykfUHo",
        "colab_type": "code",
        "colab": {}
      },
      "cell_type": "code",
      "source": [
        ""
      ],
      "execution_count": 0,
      "outputs": []
    }
  ]
}